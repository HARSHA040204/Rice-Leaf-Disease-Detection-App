{
  "cells": [
    {
      "cell_type": "code",
      "execution_count": null,
      "metadata": {
        "id": "SKc4KMtPrlUj"
      },
      "outputs": [],
      "source": [
        "import os\n",
        "import numpy as np\n",
        "import pandas as pd\n",
        "import matplotlib.pyplot as plt\n",
        "import tensorflow as tf\n",
        "from tensorflow.keras import layers, models\n",
        "from keras.models import Sequential\n",
        "from keras.layers import Conv2D, MaxPooling2D, Flatten, Dropout, Dense, BatchNormalization\n",
        "from tensorflow.keras.optimizers import SGD\n",
        "from tensorflow.keras.callbacks import ModelCheckpoint\n",
        "from tensorflow.keras.preprocessing.image import ImageDataGenerator"
      ]
    },
    {
      "cell_type": "code",
      "execution_count": null,
      "metadata": {
        "colab": {
          "base_uri": "https://localhost:8080/"
        },
        "id": "kAVZoHDhsKec",
        "outputId": "70666a0f-4b3f-4123-c2bd-f5923fdcdb4c"
      },
      "outputs": [
        {
          "name": "stdout",
          "output_type": "stream",
          "text": [
            "Found 1736 images belonging to 6 classes.\n",
            "Found 431 images belonging to 6 classes.\n"
          ]
        }
      ],
      "source": [
        "train_dir = '/content/drive/MyDrive/BMU/Project 3/train'\n",
        "validation_dir = '/content/drive/MyDrive/BMU/Project 3/validation'\n",
        "os.makedirs(validation_dir, exist_ok=True)\n",
        "\n",
        "train_datagen = ImageDataGenerator(\n",
        "    rescale=1./255, #normalize_pixels\n",
        "    validation_split=0.2  #split into 80 train and 20 test\n",
        ")\n",
        "\n",
        "target_size = (224,224)\n",
        "batch_size = 32\n",
        "\n",
        "Train_df = train_datagen.flow_from_directory(\n",
        "    train_dir,\n",
        "    target_size=target_size,\n",
        "    batch_size=batch_size,\n",
        "    class_mode='categorical',\n",
        "    shuffle=True,\n",
        "    subset='training'\n",
        ")\n",
        "\n",
        "validation_generator = train_datagen.flow_from_directory(\n",
        "    train_dir,\n",
        "    target_size=target_size,\n",
        "    batch_size=batch_size,\n",
        "    class_mode='categorical',\n",
        "    shuffle=False,\n",
        "    subset='validation'\n",
        ")"
      ]
    },
    {
      "cell_type": "code",
      "execution_count": null,
      "metadata": {
        "id": "W6rbbjY2sjnZ"
      },
      "outputs": [],
      "source": [
        "model = Sequential([\n",
        "    Conv2D(96, 11, strides = (4, 4), padding = 'valid', input_shape=(224, 224, 3), activation = 'relu'),\n",
        "    MaxPooling2D(pool_size = (2, 2), strides = (2, 2), padding = 'valid'),\n",
        "    BatchNormalization(),\n",
        "    Conv2D(256, 11, strides = (1, 1), padding='valid', activation = 'relu'),\n",
        "    MaxPooling2D(pool_size = (2, 2), strides = (2, 2), padding='valid'),\n",
        "    BatchNormalization(),\n",
        "    Conv2D(384, 3, strides = (1, 1), padding='valid', activation = 'relu'),\n",
        "    BatchNormalization(),\n",
        "    Conv2D(384, 3, strides = (1, 1), padding='valid', activation = 'relu'),\n",
        "    BatchNormalization(),\n",
        "    Conv2D(256, 3, strides=(1,1), padding='valid', activation = 'relu'),\n",
        "    MaxPooling2D(pool_size = (2, 2), strides = (2, 2), padding = 'valid'),\n",
        "    BatchNormalization(),\n",
        "    Flatten(),\n",
        "    Dense(units = 4096, activation = 'relu'),\n",
        "    Dropout(0.4),\n",
        "    BatchNormalization(),\n",
        "    Dense(units = 4096, activation = 'relu'),\n",
        "    Dropout(0.4),\n",
        "    BatchNormalization(),\n",
        "    Dense(units = 1000, activation = 'relu'),\n",
        "    Dropout(0.2),\n",
        "    BatchNormalization(),\n",
        "    Dense(units = 6, activation = 'softmax')\n",
        "])"
      ]
    },
    {
      "cell_type": "code",
      "execution_count": null,
      "metadata": {
        "colab": {
          "base_uri": "https://localhost:8080/"
        },
        "id": "mN4YtT54GEVc",
        "outputId": "f327b83e-7f12-4be5-e709-305c36f8251a"
      },
      "outputs": [
        {
          "name": "stderr",
          "output_type": "stream",
          "text": [
            "WARNING:absl:`lr` is deprecated in Keras optimizer, please use `learning_rate` or use the legacy optimizer, e.g.,tf.keras.optimizers.legacy.SGD.\n"
          ]
        }
      ],
      "source": [
        "model.compile(optimizer = SGD(lr=0.001, momentum=0.9),\n",
        "              loss='categorical_crossentropy', metrics=['accuracy'])"
      ]
    },
    {
      "cell_type": "code",
      "execution_count": null,
      "metadata": {
        "id": "FAEgvqXnG5dg"
      },
      "outputs": [],
      "source": [
        "train_num = Train_df.samples\n",
        "valid_num = validation_generator.samples"
      ]
    },
    {
      "cell_type": "code",
      "execution_count": null,
      "metadata": {
        "colab": {
          "background_save": true,
          "base_uri": "https://localhost:8080/"
        },
        "id": "rhlm1zkTGiR5",
        "outputId": "831570be-6a2a-4905-ee7e-fb962335b03a"
      },
      "outputs": [
        {
          "name": "stdout",
          "output_type": "stream",
          "text": [
            "Epoch 1/25\n",
            "54/54 [==============================] - 586s 11s/step - loss: 1.8466 - accuracy: 0.4701 - val_loss: 759.4459 - val_accuracy: 0.1707\n",
            "Epoch 2/25\n",
            "54/54 [==============================] - 364s 7s/step - loss: 1.2688 - accuracy: 0.6156 - val_loss: 156.0520 - val_accuracy: 0.1707\n",
            "Epoch 3/25\n",
            "54/54 [==============================] - 352s 7s/step - loss: 1.1523 - accuracy: 0.6555 - val_loss: 23.9314 - val_accuracy: 0.2837\n",
            "Epoch 4/25\n",
            "54/54 [==============================] - 352s 6s/step - loss: 1.0301 - accuracy: 0.6919 - val_loss: 8.9482 - val_accuracy: 0.4712\n",
            "Epoch 5/25\n",
            "54/54 [==============================] - 347s 6s/step - loss: 0.9495 - accuracy: 0.7142 - val_loss: 7.8518 - val_accuracy: 0.4615\n",
            "Epoch 6/25\n",
            "54/54 [==============================] - 343s 6s/step - loss: 0.8998 - accuracy: 0.7236 - val_loss: 2.4023 - val_accuracy: 0.7067\n",
            "Epoch 7/25\n",
            "54/54 [==============================] - 328s 6s/step - loss: 0.7331 - accuracy: 0.7647 - val_loss: 3.3188 - val_accuracy: 0.3726\n",
            "Epoch 8/25\n",
            "54/54 [==============================] - 343s 6s/step - loss: 0.6693 - accuracy: 0.7600 - val_loss: 4.1584 - val_accuracy: 0.3173\n",
            "Epoch 9/25\n",
            "54/54 [==============================] - 326s 6s/step - loss: 0.6454 - accuracy: 0.8016 - val_loss: 6.0621 - val_accuracy: 0.4760\n"
          ]
        }
      ],
      "source": [
        "history = model.fit(Train_df,\n",
        "                    steps_per_epoch=train_num//batch_size,\n",
        "                    validation_data=validation_generator,\n",
        "                    epochs=25,\n",
        "                    validation_steps=valid_num//batch_size)"
      ]
    },
    {
      "cell_type": "code",
      "execution_count": null,
      "metadata": {
        "id": "0uzBhehGHsVs"
      },
      "outputs": [],
      "source": [
        "import seaborn as sns\n",
        "sns.set()\n",
        "\n",
        "acc = history.history['acc']\n",
        "val_acc = history.history['val_acc']\n",
        "loss = history.history['loss']\n",
        "val_loss = history.history['val_loss']\n",
        "epochs = range(1, len(loss) + 1)"
      ]
    }
  ],
  "metadata": {
    "accelerator": "GPU",
    "colab": {
      "gpuType": "T4",
      "provenance": []
    },
    "kernelspec": {
      "display_name": "Python 3",
      "name": "python3"
    },
    "language_info": {
      "name": "python"
    }
  },
  "nbformat": 4,
  "nbformat_minor": 0
}